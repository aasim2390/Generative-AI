{
  "nbformat": 4,
  "nbformat_minor": 0,
  "metadata": {
    "colab": {
      "provenance": []
    },
    "kernelspec": {
      "name": "python3",
      "display_name": "Python 3"
    },
    "language_info": {
      "name": "python"
    }
  },
  "cells": [
    {
      "cell_type": "markdown",
      "source": [
        "# What Is CrewAI?\n",
        "\n",
        "Imagine you have a big project, like putting on a school play. You wouldn't do everything yourself, right?  \n",
        "You'd have:\n",
        "- A director\n",
        "- An actor\n",
        "- A stage designer\n",
        "- A ticket seller  \n",
        "\n",
        "Each person has a specific job.\n",
        "\n",
        "**CrewAI** is like a **project manager for a team of smart robots**.  \n",
        "It brings together a team of AI agents and gives each one a special job to work toward a single goal.\n",
        "\n",
        "---\n",
        "\n",
        "## The Big Idea\n",
        "\n",
        "CrewAI is **teamwork for AI**.  \n",
        "Instead of one smart robot trying to do everything, you have **multiple robots with different skills** working together — just like a crew.\n",
        "\n",
        "**Analogy:**  \n",
        "Think of a video game team:\n",
        "- A tank protects everyone\n",
        "- A healer fixes damage\n",
        "- An attacker defeats enemies  \n",
        "\n",
        "Each player has a role, they communicate, and they work together to win the game.  \n",
        "CrewAI does the **exact same thing** for AI.\n",
        "\n",
        "---\n",
        "\n",
        "## Why It's So Cool\n",
        "\n",
        "- **Tackles Big Jobs** — You can use more robots for bigger, more complicated tasks.  \n",
        "- **No Chaos** — Everyone has a clear role, so they don't get in each other's way.  \n",
        "- **Smarter Together** — By sharing findings and coordinating actions, the team finds better solutions and makes fewer mistakes.  \n",
        "- **Easy to Manage** — If one robot needs an upgrade, you can swap it out without affecting the whole team.  \n",
        "\n",
        "---\n",
        "\n",
        "## How It Works: The Team's Playbook\n",
        "\n",
        "CrewAI uses these **building blocks**:\n",
        "\n",
        "1. **Agents** — Smart robots, each with a special skill.  \n",
        "2. **Roles** — Each agent has a specific job (e.g., \"Trip Planner\", \"Budget Keeper\").  \n",
        "3. **Shared Goal** — The entire team focuses on one single mission (e.g., \"Plan the best school trip ever\").  \n",
        "4. **Tools** — Each agent has tools they can use (e.g., calendar, calculator).  \n",
        "\n",
        "---\n",
        "\n",
        "## The CREW Formula\n",
        "\n",
        "1. **Coordinate** — The team shares progress and updates.  \n",
        "2. **Roles** — Everyone has a clear, assigned job.  \n",
        "3. **Execute** — Agents use their tools to complete tasks.  \n",
        "4. **Work Together** — The entire team stays focused on the shared goal.  \n",
        "\n",
        "---\n",
        "\n",
        "## Example: Planning a School Trip\n",
        "\n",
        "**Agents:**\n",
        "- **Agent 1 (Trip Planner)** — Checks dates and finds the best time.  \n",
        "- **Agent 2 (Budget Keeper)** — Makes sure plans stay within budget.  \n",
        "- **Agent 3 (Venue Finder)** — Finds cool places that fit the budget.  \n",
        "- **Agent 4 (Inviter)** — Sends invites and collects RSVPs.  \n",
        "\n",
        "**How They Work Together:**\n",
        "- They share all information in real time.\n",
        "- They decide on the **best date and location**.\n",
        "- Once approved, they make the **final booking**.\n",
        "\n",
        "✅ The process is **smooth, organized, and reliable**.\n"
      ],
      "metadata": {
        "id": "Rl84pXmBlJ3n"
      }
    },
    {
      "cell_type": "markdown",
      "source": [
        "\n",
        "**CrewAI** gives you a ready-to-use kit and plan so you can build, manage, and grow lots of AI agents—without starting from zero.\n",
        "\n",
        "---\n",
        "\n",
        "### Why Use a Framework Like CrewAI?\n",
        "\n",
        "- **See the big picture** – Set up agents, tasks, and their interactions without getting stuck in tiny details.  \n",
        "- **Build reusable parts** – Create agents, tasks, and tools once, then reuse them in different projects.  \n",
        "- **Comes with built-in tools** – Works with popular libraries like **LangChain** and **LlamaIndex** for common jobs.  \n",
        "- **Handles complex teamwork** – Keeps multi-agent communication organized so it doesn’t get messy.  \n",
        "- **Uses best practices** – Encourages clean, safe, and clear setups so others can understand and contribute.  \n",
        "- **Test ideas faster** – Quickly try new ideas and swap parts without rebuilding everything.  \n",
        "\n",
        "---\n",
        "\n",
        "### Trade-off to Know About\n",
        "\n",
        "You might see **a bit more code and structure** than if you wrote everything directly.  \n",
        "But this usually means:  \n",
        "\n",
        "- ✅ Fewer bugs  \n",
        "- ✅ Easier to maintain  \n",
        "- ✅ More beginner-friendly in the long run  \n",
        "\n",
        "---\n",
        "\n",
        "### Quick Takeaway\n",
        "\n",
        "Frameworks add some extra setup, but they **keep you organized**—especially when your project grows or you work with others.\n",
        "\n",
        "---\n",
        "\n",
        "### Who Should Use CrewAI?\n",
        "\n",
        "- You’re building **multiple AI agents** that need to work together.  \n",
        "- You want **parts you can reuse** in future projects.  \n",
        "- You care about **safety, teamwork, and clear structure**.  \n"
      ],
      "metadata": {
        "id": "iAdE3QJBnEUQ"
      }
    },
    {
      "cell_type": "code",
      "source": [
        "from crewai import Agent\n",
        "\n",
        "# Define agents\n",
        "venue_finder = Agent(\n",
        "  role='Conference Venue Finder',\n",
        "  goal='Find the best venue for the upcoming conference',\n",
        "  backstory=\"You are an experienced event planner with a knack for finding the perfect venues.\",\n",
        "            \"Your expertise ensures that all conference requirements are met efficiently.\",\n",
        "  verbose = True\n",
        ")"
      ],
      "metadata": {
        "id": "-H2kjyu7nVqj"
      },
      "execution_count": null,
      "outputs": []
    },
    {
      "cell_type": "markdown",
      "source": [
        "## What is an Agent in CrewAI?\n",
        "\n",
        "Think of an **agent** like a skilled specialist you hire for a specific job.  \n",
        "\n",
        "**Example analogy:**  \n",
        "If you’re organizing a big conference, you might hire an **event planner** who knows how to:  \n",
        "- Find the perfect venue  \n",
        "- Negotiate prices  \n",
        "- Understand your preferences  \n",
        "\n",
        "In **CrewAI**, an agent works the same way—it's an **autonomous AI worker** with:  \n",
        "- **Role** – The job it’s doing  \n",
        "- **Goal** – What it’s trying to achieve  \n",
        "- **Backstory** – Background information or personality that guides how it works  \n",
        "\n",
        "It’s like giving your event planner a **clear job description** and **history** so they know exactly how to approach the task.  \n",
        "\n",
        "---\n",
        "\n",
        "### 📌 Example: \"Conference Venue Finder\" Agent\n",
        "\n",
        "**Purpose:** Find the best location for your conference.\n",
        "\n",
        "**Code explanation:**\n",
        "1. **Line 1** – Import the `Agent` class from CrewAI.  \n",
        "2. **Line 4** – Create an agent named `venue_finder`.  \n",
        "3. **Line 5** – **Role:** Defines the agent’s job.  \n",
        "4. **Line 6** – **Goal:** Explains what the agent should accomplish.  \n",
        "5. **Lines 7–8** – **Backstory:** Gives context and personality so the agent can make better decisions.  \n",
        "6. **Line 9** – **Verbose (optional):** If `True`, shows detailed logs for debugging (default is `False`).  \n",
        "\n",
        "---\n",
        "\n",
        "### ✅ Key points:\n",
        "- **Role**, **Goal**, and **Backstory** → Always required.  \n",
        "- **Optional extras**:\n",
        "  - Choosing the AI model (`llm`)  \n",
        "  - Adding special tools  \n",
        "- These advanced features will be covered later.\n"
      ],
      "metadata": {
        "id": "Gw1L7HKanpKr"
      }
    },
    {
      "cell_type": "code",
      "source": [
        "from crewai import Task\n",
        "\n",
        "# Define tasks\n",
        "find_venue_task = Task(\n",
        "    description=(\n",
        "        \"Conduct a thorough search to find the best venue for the upcoming \"\n",
        "        \"conference. Consider factors such as capacity, location, amenities, \"\n",
        "        \"and pricing. Use online resources and databases to gather comprehensive \"\n",
        "        \"information.\"\n",
        "    ),\n",
        "    expected_output=(\n",
        "        \"A list of 5 potential venues with detailed information on capacity, \"\n",
        "        \"location, amenities, pricing, and availability.\"\n",
        "    ),\n",
        "    agent=venue_finder\n",
        ")"
      ],
      "metadata": {
        "id": "hwEnPUKMn9OQ"
      },
      "execution_count": null,
      "outputs": []
    },
    {
      "cell_type": "markdown",
      "source": [
        "# What is a Task in CrewAI?\n",
        "\n",
        "If an **agent** is like your event planner, then a **task** is their **to-do list**.  \n",
        "It’s a clear, detailed set of instructions that tells them:\n",
        "\n",
        "- **What to do** – the job itself  \n",
        "- **What the result should look like**  \n",
        "- **Which tools or helpers to use**  \n",
        "\n",
        "In CrewAI, a **task** is a **specific goal given to an agent**.\n",
        "\n",
        "---\n",
        "\n",
        "## 📌 Example: \"Find Conference Venue\" Task\n",
        "This task tells the `venue_finder` agent exactly what you want it to do:\n",
        "\n",
        "1. Search for possible venues  \n",
        "2. Consider certain factors *(like location, size, and price)*  \n",
        "3. Provide a **detailed list** of options with all important details  \n",
        "\n",
        "---\n",
        "\n",
        "## 🔍 Breaking down the example code\n",
        "\n",
        "- **Line 1** – Import the `Task` class from CrewAI  \n",
        "- **Line 4** – Create a task called `find_venue_task`  \n",
        "- **Lines 5–10** – **Description**: Explains in detail what needs to be done  \n",
        "- **Lines 11–14** – **Expected Output**: Describes what the finished result should look like  \n",
        "- **Line 16** – **Agent**: Names the agent responsible for this task  \n",
        "\n",
        "---\n",
        "\n",
        "## ✅ Key Points to Remember\n",
        "- **Required attributes**:\n",
        "  - `description`\n",
        "  - `expected_output`\n",
        "  - `agent`\n",
        "- **Optional extras**:\n",
        "  - Add special tools  \n",
        "  - Let the task run asynchronously (`async_execution`)\n"
      ],
      "metadata": {
        "id": "0f5rX6-OoVny"
      }
    },
    {
      "cell_type": "code",
      "source": [
        "from crewai_tools import SerperDevTool\n",
        "\n",
        "# Create a search tool\n",
        "search_tool = SerperDevTool()"
      ],
      "metadata": {
        "id": "Ltb48uGzoAQF"
      },
      "execution_count": null,
      "outputs": []
    },
    {
      "cell_type": "markdown",
      "source": [
        "# 🛠 What is a Tool in CrewAI?\n",
        "\n",
        "Think of a **tool** as the **equipment** your agent uses to get the job done.  \n",
        "Just like an event planner might need:  \n",
        "- 📞 A phone to make calls  \n",
        "- 💻 A laptop to manage bookings  \n",
        "- 📋 A contact list of venues  \n",
        "\n",
        "An **agent** in CrewAI also needs tools — but these are digital ones.\n",
        "\n",
        "---\n",
        "\n",
        "## 📖 Definition\n",
        "A **tool** is a **built-in function** or **external integration** that helps an agent complete its tasks.\n",
        "\n",
        "---\n",
        "\n",
        "## ✅ What Tools Can Do\n",
        "- 🔍 Search for information online  \n",
        "- 📊 Pull data from databases  \n",
        "- 📩 Send messages or trigger actions  \n",
        "- ⚙ Connect to APIs or other services  \n",
        "\n",
        "---\n",
        "\n",
        "## 🧰 Types of Tools\n",
        "1. **Built-in Tools** – Ready-to-use tools included in CrewAI  \n",
        "2. **External Tools** – Integrations with other services (APIs, plugins, etc.)  \n",
        "\n",
        "---\n",
        "\n",
        "## 🔍 Example: Search Tool\n",
        "\n",
        "```python\n",
        "# Line 1 – Import the SerperDevTool from crewai_tools\n",
        "from crewai_tools import SerperDevTool\n",
        "\n",
        "# Line 4 – Create (instantiate) the tool\n",
        "search_tool = SerperDevTool()\n",
        "\n",
        "# Now agents can use 'search_tool' to perform online Google searches\n"
      ],
      "metadata": {
        "id": "UQTgIkq1o11f"
      }
    },
    {
      "cell_type": "markdown",
      "source": [
        "Tool Name: SerperDevTool <br>\n",
        "Purpose: Allows an agent to look up information online using Google’s search engine.<br>\n",
        "Alternatives: Tavily, Bing Search, or any other search API.<br>\n",
        "\n",
        "\n",
        "📌 Key Points <br>\n",
        "\n",
        "\n",
        "*   Tools are optional but often essential.\n",
        "*   The same agent can use multiple tools.\n",
        "*   Tools can be reused across different agents."
      ],
      "metadata": {
        "id": "8yit6UB5pEa7"
      }
    },
    {
      "cell_type": "markdown",
      "source": [
        "We can simply use this created search tool in our agents or tasks in the following manner:"
      ],
      "metadata": {
        "id": "7aCajRWNo237"
      }
    },
    {
      "cell_type": "code",
      "source": [
        "venue_finder = Agent(\n",
        "  role='Conference Venue Finder',\n",
        "  goal='Find the best venue for the upcoming conference',\n",
        "  backstory=\"You are an experienced event planner with a knack for finding the perfect venues.\",\n",
        "            \"Your expertise ensures that all conference requirements are met efficiently.\",\n",
        "  verbose = True,\n",
        "  tools=[search_tool]\n",
        "  )"
      ],
      "metadata": {
        "id": "PfNxE8PCpfxW"
      },
      "execution_count": null,
      "outputs": []
    },
    {
      "cell_type": "markdown",
      "source": [
        "# 👥 What is a Crew in CrewAI?\n",
        "\n",
        "In **CrewAI**, a **crew** is a **team of agents working together** to get a job done.  \n",
        "The crew decides:\n",
        "\n",
        "- ✅ What tasks need to be done  \n",
        "- 🧑‍💻 Which agent does which task  \n",
        "- 🔄 The order or process for completing everything smoothly  \n",
        "\n",
        "---\n",
        "\n",
        "## 🛠 How a Crew Works\n",
        "A crew acts like a **team leader** — it coordinates the agents so they are not just working alone, but working toward the **same goal**.\n",
        "\n",
        "---\n",
        "\n",
        "## 📋 Types of Crew Processes\n",
        "\n",
        "1. **Sequential Process**  \n",
        "   - Agents do tasks **one after another**, like a checklist.  \n",
        "\n",
        "2. **Hierarchical Process**  \n",
        "   - Agents only do a task if **certain conditions are met**, deciding the next step based on previous results.  \n",
        "\n",
        "3. **(Coming Soon) Parallel Process**  \n",
        "   - Agents work **at the same time** on different tasks — like chefs in a kitchen making different dishes simultaneously.\n",
        "\n",
        "---\n",
        "\n",
        "## 📌 Example: Planning a Conference\n",
        "\n",
        "- 🏢 **Venue Finder Agent** → Finds possible event locations.  \n",
        "- 📊 **Data Analyst Agent** → Compares the options and recommends the best one.  \n",
        "- 📣 **Marketing Specialist Agent** → Plans how to promote the event.  \n",
        "\n",
        "The crew **organizes** these agents so their tasks **flow in the right order** — either one after the other (sequential) or simultaneously (parallel, future feature).\n",
        "\n",
        "---\n",
        "\n",
        "## 💡 Key Takeaway\n",
        "A **crew** isn’t just a bunch of agents.  \n",
        "It’s a **coordinated unit** where every agent’s work **fits into a bigger plan**.  \n",
        "This makes your AI solutions **more powerful, organized, and flexible**.\n",
        "\n",
        "---\n"
      ],
      "metadata": {
        "id": "jYHQq2asp91p"
      }
    },
    {
      "cell_type": "markdown",
      "source": [
        "![image.png](data:image/png;base64,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)"
      ],
      "metadata": {
        "id": "5Nrb_LM9qMig"
      }
    },
    {
      "cell_type": "markdown",
      "source": [
        "\n",
        "\n",
        ">  Agent  = Worker\n",
        "\n",
        ">  Task   = To-do list\n",
        "\n",
        ">  Tool   = Equipment\n"
      ],
      "metadata": {
        "id": "3mSYV7vtqNpn"
      }
    }
  ]
}